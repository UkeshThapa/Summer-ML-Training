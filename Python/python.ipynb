{
 "cells": [
  {
   "attachments": {},
   "cell_type": "markdown",
   "metadata": {},
   "source": [
    "# Introduction to Python"
   ]
  },
  {
   "cell_type": "code",
   "execution_count": 83,
   "metadata": {},
   "outputs": [
    {
     "name": "stdout",
     "output_type": "stream",
     "text": [
      "Hi! I am a programmer\n"
     ]
    }
   ],
   "source": [
    "# first code\n",
    "print(\"Hi! I am a programmer\")"
   ]
  },
  {
   "attachments": {},
   "cell_type": "markdown",
   "metadata": {},
   "source": [
    "## Comment \n",
    "## Type of Comment\n",
    "#### 1. single comment\n",
    "#### 2. multiple comment"
   ]
  },
  {
   "cell_type": "code",
   "execution_count": null,
   "metadata": {},
   "outputs": [],
   "source": [
    "# its the single comment; \n",
    "# to print output\n",
    "print(\"Output\")\n",
    "\n",
    "\n",
    "'''\n",
    "its the multiple comment\n",
    "we can write comment in multiple line\n",
    "\n",
    "'''"
   ]
  },
  {
   "attachments": {},
   "cell_type": "markdown",
   "metadata": {},
   "source": [
    "## Escape sequence and print statement"
   ]
  },
  {
   "cell_type": "code",
   "execution_count": 85,
   "metadata": {},
   "outputs": [
    {
     "name": "stdout",
     "output_type": "stream",
     "text": [
      "A python programmer said that,\"programmer with basic knowledge on c and c++ can learn python with in short time\". and all agree on that\n"
     ]
    }
   ],
   "source": [
    "# print('Hi, I am a programmer')\n",
    "\n",
    "# first problem\n",
    " \n",
    "# print('I don't know python syntax')\n",
    "# print('I don\\'t know python syntax')\n",
    "# print(\"I don't know python syntax\")\n",
    "\n",
    "# second problem\n",
    "# print(\"A python programmer said that,\"programmer with basic knowledge on c and c++ can learn python with in short time\". and all agree on that\")\n",
    "# print(\"A python programmer said that,\\\"programmer with basic knowledge on c and c++ can learn python with in short time\\\". and all agree on that\")\n",
    "print('''A python programmer said that,\"programmer with basic knowledge on c and c++ can learn python with in short time\". and all agree on that''')"
   ]
  },
  {
   "cell_type": "code",
   "execution_count": 9,
   "metadata": {},
   "outputs": [
    {
     "name": "stdout",
     "output_type": "stream",
     "text": [
      "hello-6-8new\n"
     ]
    }
   ],
   "source": [
    "# print statement\n",
    "\n",
    "# print(\"hello\",6,8,sep='-',end='new\\n')\n"
   ]
  },
  {
   "attachments": {},
   "cell_type": "markdown",
   "metadata": {},
   "source": [
    "## Variable "
   ]
  },
  {
   "cell_type": "code",
   "execution_count": 2,
   "metadata": {},
   "outputs": [
    {
     "name": "stdout",
     "output_type": "stream",
     "text": [
      "student 1\n"
     ]
    }
   ],
   "source": [
    "# assign the value to variable\n",
    "\n",
    "name = \"student 1\"\n",
    "print(name)"
   ]
  },
  {
   "cell_type": "code",
   "execution_count": 3,
   "metadata": {},
   "outputs": [
    {
     "name": "stdout",
     "output_type": "stream",
     "text": [
      "Name of the student is -  student 1\n",
      "Name of the student after change -  student 2\n"
     ]
    }
   ],
   "source": [
    "# change the value in variable\n",
    "name = \"student 1\"\n",
    "print(\"Name of the student is - \",name)\n",
    "\n",
    "name = \"student 2\"\n",
    "print(\"Name of the student after change - \",name)"
   ]
  },
  {
   "cell_type": "code",
   "execution_count": 4,
   "metadata": {},
   "outputs": [
    {
     "name": "stdout",
     "output_type": "stream",
     "text": [
      "student 1\n",
      "True\n",
      "30\n"
     ]
    }
   ],
   "source": [
    "# assign the value to multiple variable\n",
    "\n",
    "name,status,score = \"student 1\",True,30\n",
    "print(name)\n",
    "print(status)\n",
    "print(score)\n"
   ]
  },
  {
   "cell_type": "code",
   "execution_count": 7,
   "metadata": {},
   "outputs": [
    {
     "name": "stdout",
     "output_type": "stream",
     "text": [
      "site_1 variable value ->  google.com\n",
      "site_2 variable value ->  google.com\n"
     ]
    }
   ],
   "source": [
    "# assign the same value to different variable\n",
    "\n",
    "site_1 = site_2 = \"google.com\"\n",
    "print(\"site_1 variable value -> \",site_1)\n",
    "print(\"site_2 variable value -> \",site_2)"
   ]
  },
  {
   "attachments": {},
   "cell_type": "markdown",
   "metadata": {},
   "source": [
    "# Python Type conversion"
   ]
  },
  {
   "cell_type": "code",
   "execution_count": 7,
   "metadata": {},
   "outputs": [
    {
     "name": "stdout",
     "output_type": "stream",
     "text": [
      "Value: 124.23\n",
      "Data Type: <class 'float'>\n"
     ]
    }
   ],
   "source": [
    "# Implicit Conversion\n",
    "number_integer =  123\n",
    "number_float = 1.23\n",
    "\n",
    "new_number = number_integer + number_float\n",
    "\n",
    "# display new value and resulting data type\n",
    "print(\"Value:\",new_number)\n",
    "print(\"Data Type:\",type(new_number))\n"
   ]
  },
  {
   "cell_type": "code",
   "execution_count": 9,
   "metadata": {},
   "outputs": [
    {
     "name": "stdout",
     "output_type": "stream",
     "text": [
      "Value:  127\n",
      "Data type:  <class 'int'>\n"
     ]
    }
   ],
   "source": [
    "# Explicit Conversion\n",
    "number_string = '4'\n",
    "number_integer = 123\n",
    "\n",
    "change_number_type = int(number_string)\n",
    "\n",
    "add = change_number_type + number_integer\n",
    "\n",
    "print(\"Value: \", add)\n",
    "print(\"Data type: \", type(add))"
   ]
  },
  {
   "attachments": {},
   "cell_type": "markdown",
   "metadata": {},
   "source": [
    "## Python Input and Output"
   ]
  },
  {
   "cell_type": "code",
   "execution_count": 20,
   "metadata": {},
   "outputs": [
    {
     "name": "stdout",
     "output_type": "stream",
     "text": [
      "python is powerfull\n"
     ]
    }
   ],
   "source": [
    "#output\n",
    "print(\"python is powerfull\")"
   ]
  },
  {
   "cell_type": "code",
   "execution_count": 29,
   "metadata": {},
   "outputs": [
    {
     "name": "stdout",
     "output_type": "stream",
     "text": [
      "Mr.Ram is  now 21 years old.\n"
     ]
    }
   ],
   "source": [
    "# print formating\n",
    "\n",
    "name = \"Ram\"\n",
    "age = 21\n",
    "# print(\"Mr.{} is  now {} years old.\".format(name,age))\n",
    "# print(f\"Mr.{name} is  now {age} years old.\")\n"
   ]
  },
  {
   "cell_type": "code",
   "execution_count": 30,
   "metadata": {},
   "outputs": [
    {
     "name": "stdout",
     "output_type": "stream",
     "text": [
      "My name is yukesh.\n"
     ]
    }
   ],
   "source": [
    "# input\n",
    "name = input(\"Enter your name: \")\n",
    "print(f\"My name is {name}.\")"
   ]
  },
  {
   "cell_type": "code",
   "execution_count": 31,
   "metadata": {},
   "outputs": [
    {
     "name": "stdout",
     "output_type": "stream",
     "text": [
      "<class 'str'>\n"
     ]
    }
   ],
   "source": [
    "# by default\n",
    "num = input(\"Enter a number: \")\n",
    "print(type(num))"
   ]
  },
  {
   "attachments": {},
   "cell_type": "markdown",
   "metadata": {},
   "source": [
    "## Operators"
   ]
  },
  {
   "cell_type": "code",
   "execution_count": null,
   "metadata": {},
   "outputs": [],
   "source": [
    "# Arithmetic operators\n",
    "a = 7\n",
    "b = 2\n",
    "\n",
    "# addition\n",
    "print ('Sum: ', a + b)  \n",
    "\n",
    "# subtraction\n",
    "print ('Subtraction: ', a - b)   \n",
    "\n",
    "# multiplication\n",
    "print ('Multiplication: ', a * b)  \n",
    "\n",
    "# division\n",
    "print ('Division: ', a / b) \n",
    "\n",
    "# floor division\n",
    "print ('Floor Division: ', a // b)\n",
    "\n",
    "# modulo\n",
    "print ('Modulo: ', a % b)  \n",
    "\n",
    "# a to the power b\n",
    "print ('Power: ', a ** b)"
   ]
  },
  {
   "cell_type": "code",
   "execution_count": 33,
   "metadata": {},
   "outputs": [
    {
     "name": "stdout",
     "output_type": "stream",
     "text": [
      "15\n"
     ]
    }
   ],
   "source": [
    "# assignment operators\n",
    "a = 10\n",
    "\n",
    "# assign 5 to b\n",
    "b = 5 \n",
    "\n",
    "# assign the sum of a and b to a\n",
    "a += b      # a = a + b\n",
    "\n",
    "print(a)\n",
    "\n"
   ]
  },
  {
   "cell_type": "code",
   "execution_count": 35,
   "metadata": {},
   "outputs": [
    {
     "name": "stdout",
     "output_type": "stream",
     "text": [
      "a == b = False\n",
      "a != b = True\n",
      "a > b = True\n",
      "a < b = False\n",
      "a >= b = True\n",
      "a <= b = False\n"
     ]
    }
   ],
   "source": [
    "# comparison operators\n",
    "a = 5\n",
    "\n",
    "b = 2\n",
    "\n",
    "# equal to operator\n",
    "print('a == b =', a == b)\n",
    "\n",
    "# not equal to operator\n",
    "print('a != b =', a != b)\n",
    "\n",
    "# greater than operator\n",
    "print('a > b =', a > b)\n",
    "\n",
    "# less than operator\n",
    "print('a < b =', a < b)\n",
    "\n",
    "# greater than or equal to operator\n",
    "print('a >= b =', a >= b)\n",
    "\n",
    "# less than or equal to operator\n",
    "print('a <= b =', a <= b)"
   ]
  },
  {
   "cell_type": "code",
   "execution_count": 6,
   "metadata": {},
   "outputs": [
    {
     "name": "stdout",
     "output_type": "stream",
     "text": [
      "True\n",
      "False\n",
      "True\n",
      "False\n"
     ]
    }
   ],
   "source": [
    "# logical operators\n",
    "# logical AND\n",
    "print(True and True)     # True\n",
    "print(False and False)    # False\n",
    "\n",
    "# logical OR\n",
    "print(True or False)     # True\n",
    "\n",
    "# logical NOT\n",
    "print(not True)          # False"
   ]
  },
  {
   "cell_type": "code",
   "execution_count": 7,
   "metadata": {},
   "outputs": [
    {
     "name": "stdout",
     "output_type": "stream",
     "text": [
      "a & b = 0\n",
      "a | b = 14\n",
      "~a = -11\n",
      "a ^ b = 14\n"
     ]
    }
   ],
   "source": [
    "# Bitwise operators\n",
    "# Python program to show\n",
    "# bitwise operators\n",
    "\n",
    "a = 10 # 1011(Binary)\n",
    "b = 4 # 0100(Binary)\n",
    "\n",
    "# Print bitwise AND operation\n",
    "print(\"a & b =\", a & b)\n",
    "\n",
    "# Print bitwise OR operation\n",
    "print(\"a | b =\", a | b)\n",
    "\n",
    "# Print bitwise NOT operation\n",
    "print(\"~a =\", ~a)\n",
    "\n",
    "# print bitwise XOR operation\n",
    "print(\"a ^ b =\", a ^ b)\n"
   ]
  },
  {
   "cell_type": "code",
   "execution_count": null,
   "metadata": {},
   "outputs": [],
   "source": [
    "# special operators\n",
    "x1 = 5\n",
    "y1 = 5\n",
    "x2 = 'Hello'\n",
    "y2 = 'Hello'\n",
    "x3 = [1,2,3]\n",
    "y3 = [1,2,3]\n",
    "\n",
    "print(x1 is not y1)  # prints False\n",
    "\n",
    "print(x2 is y2)  # prints True\n",
    "\n",
    "print(x3 is y3)  # prints False"
   ]
  },
  {
   "attachments": {},
   "cell_type": "markdown",
   "metadata": {},
   "source": [
    "# if...else Statement"
   ]
  },
  {
   "cell_type": "code",
   "execution_count": 10,
   "metadata": {},
   "outputs": [
    {
     "name": "stdout",
     "output_type": "stream",
     "text": [
      "Number is positive\n"
     ]
    }
   ],
   "source": [
    "# example \n",
    "# check number is positive or not \n",
    "\n",
    "number = 5\n",
    "\n",
    "if number > 0:\n",
    "    print(\"Number is positive\")\n",
    "\n",
    "else:\n",
    "    print(\"Number is Negative\")\n",
    "\n"
   ]
  },
  {
   "cell_type": "code",
   "execution_count": 11,
   "metadata": {},
   "outputs": [
    {
     "name": "stdout",
     "output_type": "stream",
     "text": [
      "Number is Zero\n"
     ]
    }
   ],
   "source": [
    "# check number is positive , Negative or Zero\n",
    "\n",
    "number = 0\n",
    "\n",
    "if number > 0:\n",
    "    print(\"Number is positive\")\n",
    "elif number == 0:\n",
    "    print(\"Number is Zero\")\n",
    "else:\n",
    "    print(\"Number is Negative\")  "
   ]
  },
  {
   "cell_type": "code",
   "execution_count": 12,
   "metadata": {},
   "outputs": [
    {
     "name": "stdout",
     "output_type": "stream",
     "text": [
      "Can have citizenship\n"
     ]
    }
   ],
   "source": [
    "# Nested loop condition\n",
    "nationality = 'nepali'\n",
    "year = 16\n",
    "\n",
    "if nationality == 'nepali':\n",
    "    if year >= 16:\n",
    "        print(\"Can have citizenship\")\n",
    "    else:\n",
    "        print(\"must be 16 year or older to have citizenship\")\n",
    "else:\n",
    "    print(\"Must be Nepali citizen to have citizenship\")\n",
    "\n",
    "    \n"
   ]
  },
  {
   "attachments": {},
   "cell_type": "markdown",
   "metadata": {},
   "source": [
    "# Loop"
   ]
  },
  {
   "attachments": {},
   "cell_type": "markdown",
   "metadata": {},
   "source": [
    "## For Loop"
   ]
  },
  {
   "cell_type": "code",
   "execution_count": 13,
   "metadata": {},
   "outputs": [
    {
     "name": "stdout",
     "output_type": "stream",
     "text": [
      "0\n",
      "1\n",
      "2\n",
      "3\n",
      "4\n",
      "5\n",
      "6\n",
      "7\n",
      "8\n",
      "9\n"
     ]
    }
   ],
   "source": [
    "# for loop\n",
    "\n",
    "# simple example\n",
    "number = 10\n",
    "for i in range(number):\n",
    "    print(i)\n"
   ]
  },
  {
   "attachments": {},
   "cell_type": "markdown",
   "metadata": {},
   "source": [
    "# While loop"
   ]
  },
  {
   "cell_type": "code",
   "execution_count": 5,
   "metadata": {},
   "outputs": [
    {
     "name": "stdout",
     "output_type": "stream",
     "text": [
      "1\n",
      "2\n",
      "3\n",
      "4\n",
      "5\n",
      "6\n",
      "7\n",
      "8\n",
      "9\n"
     ]
    }
   ],
   "source": [
    "# while loop\n",
    "iteration = 1\n",
    "\n",
    "while iteration < 10:\n",
    "    print(iteration)\n",
    "    iteration += 1\n"
   ]
  },
  {
   "attachments": {},
   "cell_type": "markdown",
   "metadata": {},
   "source": [
    "# Break, Continue and pass"
   ]
  },
  {
   "cell_type": "code",
   "execution_count": 6,
   "metadata": {},
   "outputs": [
    {
     "name": "stdout",
     "output_type": "stream",
     "text": [
      "0\n",
      "1\n",
      "2\n"
     ]
    }
   ],
   "source": [
    "# Break\n",
    "\n",
    "for i in range(5):\n",
    "    if i == 3:\n",
    "        break\n",
    "    print(i)"
   ]
  },
  {
   "cell_type": "code",
   "execution_count": 7,
   "metadata": {},
   "outputs": [
    {
     "name": "stdout",
     "output_type": "stream",
     "text": [
      "0\n",
      "1\n",
      "2\n",
      "4\n"
     ]
    }
   ],
   "source": [
    "# while\n",
    "\n",
    "for i in range(5):\n",
    "    if i == 3:\n",
    "        continue\n",
    "    print(i)"
   ]
  },
  {
   "cell_type": "code",
   "execution_count": 10,
   "metadata": {},
   "outputs": [
    {
     "name": "stdout",
     "output_type": "stream",
     "text": [
      "0\n",
      "1\n",
      "3\n",
      "4\n"
     ]
    }
   ],
   "source": [
    "# pass\n",
    "for i in range(5):\n",
    "    if i ==2:\n",
    "        pass\n",
    "    else:\n",
    "        print(i)\n",
    "\n"
   ]
  },
  {
   "attachments": {},
   "cell_type": "markdown",
   "metadata": {},
   "source": [
    "## Data type"
   ]
  },
  {
   "attachments": {},
   "cell_type": "markdown",
   "metadata": {},
   "source": [
    "### 1. Numerical type"
   ]
  },
  {
   "cell_type": "code",
   "execution_count": 12,
   "metadata": {},
   "outputs": [
    {
     "data": {
      "text/plain": [
       "5"
      ]
     },
     "execution_count": 12,
     "metadata": {},
     "output_type": "execute_result"
    }
   ],
   "source": [
    "# Add\n",
    "# 2+3\n",
    "\n",
    "# subtract\n",
    "# 12-2\n",
    "\n",
    "# multiplication\n",
    "# 2*3\n",
    "\n",
    "# division\n",
    "# 12/2\n",
    "# 23//3\n",
    "\n",
    "# power\n",
    "# 2**3\n",
    "\n",
    "# check the data type\n",
    "# num = 23\n",
    "# print(type(num))\n",
    "\n",
    "# num = 3.5\n",
    "# print(type(num))\n",
    "\n",
    "# num = 3+4j\n",
    "# print(type(num))\n",
    "\n",
    "\n"
   ]
  },
  {
   "cell_type": "code",
   "execution_count": 19,
   "metadata": {},
   "outputs": [
    {
     "name": "stdout",
     "output_type": "stream",
     "text": [
      "3\n",
      "8\n",
      "10\n"
     ]
    }
   ],
   "source": [
    "# binary\n",
    "print(0b11)\n",
    "\n",
    "# octal\n",
    "print(0o10)\n",
    "\n",
    "#hexadecimal\n",
    "print(0xA)"
   ]
  },
  {
   "cell_type": "code",
   "execution_count": 14,
   "metadata": {},
   "outputs": [
    {
     "name": "stdout",
     "output_type": "stream",
     "text": [
      "18\n"
     ]
    }
   ],
   "source": [
    "# adding binary and hexadecimal\n",
    "# print(0b11+0xA)\n",
    "\n",
    "# adding octal and hexadecimal\n",
    "print(0xA+0o10)"
   ]
  },
  {
   "cell_type": "code",
   "execution_count": 24,
   "metadata": {},
   "outputs": [
    {
     "name": "stdout",
     "output_type": "stream",
     "text": [
      "converting from int to float 12.0\n"
     ]
    }
   ],
   "source": [
    "# type conversion \n",
    "num = 12\n",
    "print(\"converting from int to float\",float(num))"
   ]
  },
  {
   "cell_type": "code",
   "execution_count": 19,
   "metadata": {},
   "outputs": [
    {
     "data": {
      "text/plain": [
       "0.8444218515250481"
      ]
     },
     "execution_count": 19,
     "metadata": {},
     "output_type": "execute_result"
    }
   ],
   "source": [
    "import math\n",
    "\n",
    "# math.pi\n",
    "\n",
    "# math.cos(math.pi)\n",
    "# math.factorial(6)\n",
    "\n",
    "import random\n",
    "random.seed(0)\n",
    "random.random()"
   ]
  },
  {
   "attachments": {},
   "cell_type": "markdown",
   "metadata": {},
   "source": [
    "### 2. String"
   ]
  },
  {
   "cell_type": "code",
   "execution_count": 1,
   "metadata": {},
   "outputs": [],
   "source": [
    "firts_name = 'apple'\n",
    "last_name = \"last name\"\n"
   ]
  },
  {
   "cell_type": "code",
   "execution_count": 30,
   "metadata": {},
   "outputs": [
    {
     "name": "stdout",
     "output_type": "stream",
     "text": [
      "e\n",
      "False\n",
      "True\n",
      "SPIDERMAN\n",
      "('hello ', '!', ' world')\n",
      "elppa\n"
     ]
    }
   ],
   "source": [
    "# indexing\n",
    "fruit = \"apple\"\n",
    "print(fruit[4])\n",
    "\n",
    "# string slicing\n",
    "# print(fruit[0:2])\n",
    "# print('b'+fruit[1:])\n",
    "# immutable of string\n",
    "# fruit[0]='b' # cannot change the value\n",
    "# fruit = \"bpple\" # has to assign new value instead\n",
    "# print(fruit)\n",
    "\n",
    "\n",
    "# multiline string\n",
    "# message = '''\n",
    "# Hi I am a programmer\n",
    "# I love coding\n",
    "# Happy coding!!\n",
    "\n",
    "# '''\n",
    "# print(message)\n",
    "\n",
    "\n",
    "\n",
    "# string operation\n",
    "# 1. compare\n",
    "str1 = \"spiderman\"\n",
    "str2 = \"batman\"\n",
    "print(str1==str2)\n",
    "\n",
    "# 2. concatinate\n",
    "# print(str1+str2)\n",
    "\n",
    "# member in string\n",
    "print('a' in 'program' )\n",
    "\n",
    "# loop string\n",
    "# greeting = 'hello'\n",
    "\n",
    "# for letter in greeting:\n",
    "#     print(letter)\n",
    "\n",
    "\n",
    "# Method\n",
    "# str1 = \"upper\"\n",
    "print(str1.upper())\n",
    "# print(str1.lower())\n",
    "new_data = \"hello ! world\"\n",
    "print(new_data.partition('!'))\n",
    "# print(str1.replace('e','d'))\n",
    "# print(str1.startswith('u'))\n",
    "# print(fruit[::-1])"
   ]
  },
  {
   "cell_type": "code",
   "execution_count": 41,
   "metadata": {},
   "outputs": [
    {
     "name": "stdout",
     "output_type": "stream",
     "text": [
      "elppa\n"
     ]
    }
   ],
   "source": [
    "fruit = \"apple\"\n",
    "print(fruit[::-1])"
   ]
  },
  {
   "attachments": {},
   "cell_type": "markdown",
   "metadata": {},
   "source": [
    "## 2.List"
   ]
  },
  {
   "cell_type": "code",
   "execution_count": null,
   "metadata": {},
   "outputs": [],
   "source": [
    "# empty list\n",
    "new_list = []"
   ]
  },
  {
   "cell_type": "code",
   "execution_count": 30,
   "metadata": {},
   "outputs": [
    {
     "name": "stdout",
     "output_type": "stream",
     "text": [
      "['apple', 12, True, 3.1]\n"
     ]
    }
   ],
   "source": [
    "\n",
    "store_list = [\"apple\",12, True, 3.1]\n",
    "print(store_list)"
   ]
  },
  {
   "cell_type": "code",
   "execution_count": 45,
   "metadata": {},
   "outputs": [
    {
     "name": "stdout",
     "output_type": "stream",
     "text": [
      "apple\n",
      "12\n",
      "True\n",
      "3.1\n",
      "-------\n",
      "3.1\n",
      "True\n",
      "12\n",
      "apple\n"
     ]
    }
   ],
   "source": [
    "# Accessing list\n",
    "print(store_list[0])\n",
    "print(store_list[1])\n",
    "print(store_list[2])\n",
    "print(store_list[3])\n",
    "\n",
    "print(\"-------\")\n",
    "# negative indexing\n",
    "print(store_list[-1])\n",
    "print(store_list[-2])\n",
    "print(store_list[-3])\n",
    "print(store_list[-4])"
   ]
  },
  {
   "cell_type": "code",
   "execution_count": 27,
   "metadata": {},
   "outputs": [
    {
     "name": "stdout",
     "output_type": "stream",
     "text": [
      "0 apple\n",
      "1 12\n",
      "2 True\n",
      "3 3.1\n"
     ]
    }
   ],
   "source": [
    "for index,value in enumerate(store_list):\n",
    "    print(index,value)"
   ]
  },
  {
   "cell_type": "code",
   "execution_count": 50,
   "metadata": {},
   "outputs": [
    {
     "name": "stdout",
     "output_type": "stream",
     "text": [
      "[12, True, 3.1]\n",
      "['apple', 12, True, 3.1]\n",
      "['apple', 12, True]\n",
      "[3.1, True, 12, 'apple']\n"
     ]
    }
   ],
   "source": [
    "# list slicing python\n",
    "print(store_list[1:])\n",
    "print(store_list[:])\n",
    "print(store_list[:-1])\n",
    "\n",
    "# REVERSE THE LIST\n",
    "print(store_list[::-1])"
   ]
  },
  {
   "cell_type": "code",
   "execution_count": 31,
   "metadata": {},
   "outputs": [
    {
     "name": "stdout",
     "output_type": "stream",
     "text": [
      "Before adding element--> ['apple', 12, True, 3.1]\n",
      "After adding element--> ['apple', 12, True, 3.1, 'new element']\n"
     ]
    }
   ],
   "source": [
    "# Append the list\n",
    "print(\"Before adding element-->\",store_list)\n",
    "store_list.append(\"new element\")\n",
    "print(\"After adding element-->\",store_list)\n"
   ]
  },
  {
   "cell_type": "code",
   "execution_count": 33,
   "metadata": {},
   "outputs": [
    {
     "name": "stdout",
     "output_type": "stream",
     "text": [
      "List after append: [2, 3, 7, 2, 4, 6]\n"
     ]
    }
   ],
   "source": [
    "# extend list\n",
    "prime_numbers = [2,3,7]\n",
    "even_numbers = [2,4,6]\n",
    "\n",
    "# join two lists\n",
    "\n",
    "prime_numbers.extend(even_numbers)\n",
    "\n",
    "print(\"List after append:\", prime_numbers) \n"
   ]
  },
  {
   "cell_type": "code",
   "execution_count": 3,
   "metadata": {},
   "outputs": [
    {
     "name": "stdout",
     "output_type": "stream",
     "text": [
      "Before Changing items --> ['python', 'swift', 'Golang', 'C', 'JavaScript']\n",
      "After Changing items --> ['python', 'swift', 'C++', 'C', 'JavaScript']\n"
     ]
    }
   ],
   "source": [
    "# change list items \n",
    "language = ['python','swift','Golang','C','JavaScript']\n",
    "\n",
    "print(\"Before Changing items -->\",language)\n",
    "language[2] = 'C++'\n",
    "print(\"After Changing items -->\",language)"
   ]
  },
  {
   "cell_type": "code",
   "execution_count": 4,
   "metadata": {},
   "outputs": [
    {
     "name": "stdout",
     "output_type": "stream",
     "text": [
      "Before remove --> ['python', 'swift', 'Golang', 'C', 'JavaScript']\n",
      "after  remove --> ['python', 'Golang', 'C', 'JavaScript']\n"
     ]
    }
   ],
   "source": [
    "# remove list items\n",
    "# 1. using del \n",
    "language = ['python','swift','Golang','C','JavaScript']\n",
    "print('Before remove -->', language)\n",
    "\n",
    "del(language[1])\n",
    "print('after  remove -->',language)"
   ]
  },
  {
   "cell_type": "code",
   "execution_count": 5,
   "metadata": {},
   "outputs": [
    {
     "name": "stdout",
     "output_type": "stream",
     "text": [
      "Before remove --> ['python', 'swift', 'Golang', 'C', 'JavaScript']\n",
      "after  remove --> ['swift', 'Golang', 'C', 'JavaScript']\n"
     ]
    }
   ],
   "source": [
    "# 2. using remove()\n",
    "language = ['python','swift','Golang','C','JavaScript']\n",
    "print('Before remove -->', language)\n",
    "language.remove(\"python\")\n",
    "print('after  remove -->',language)"
   ]
  },
  {
   "cell_type": "code",
   "execution_count": 33,
   "metadata": {},
   "outputs": [],
   "source": [
    "list_num = [1,2,3]\n",
    "list_num.remove(list_num[0])"
   ]
  },
  {
   "cell_type": "code",
   "execution_count": 34,
   "metadata": {},
   "outputs": [
    {
     "data": {
      "text/plain": [
       "[2, 3]"
      ]
     },
     "execution_count": 34,
     "metadata": {},
     "output_type": "execute_result"
    }
   ],
   "source": [
    "list_num"
   ]
  },
  {
   "cell_type": "code",
   "execution_count": 6,
   "metadata": {},
   "outputs": [
    {
     "name": "stdout",
     "output_type": "stream",
     "text": [
      "delete a element ['python', 'swift', 'Golang', 'C']\n"
     ]
    }
   ],
   "source": [
    "# pop element\n",
    "language = ['python','swift','Golang','C','JavaScript']\n",
    "language.pop(-1)\n",
    "print(\"delete a element\",language)"
   ]
  },
  {
   "attachments": {},
   "cell_type": "markdown",
   "metadata": {},
   "source": [
    "# Tuples\n"
   ]
  },
  {
   "cell_type": "code",
   "execution_count": 11,
   "metadata": {},
   "outputs": [
    {
     "name": "stdout",
     "output_type": "stream",
     "text": [
      "<class 'tuple'>\n"
     ]
    }
   ],
   "source": [
    "#create empty tuple\n",
    "tuple_var = ()\n",
    "print(type(tuple_var))"
   ]
  },
  {
   "cell_type": "code",
   "execution_count": 35,
   "metadata": {},
   "outputs": [],
   "source": [
    "#create a single element tuple\n",
    "\n",
    "tuple_var = ('hello')\n",
    "print(type(tuple_var))\n",
    "\n",
    "# tuple_var = ('hello',)\n",
    "# print(type(tuple_var))\n"
   ]
  },
  {
   "cell_type": "code",
   "execution_count": 36,
   "metadata": {},
   "outputs": [
    {
     "name": "stdout",
     "output_type": "stream",
     "text": [
      "first item yukesh\n",
      "second item 2074\n",
      "third item BCT\n",
      "last element BCT\n",
      "elements ('yukesh', 2074)\n",
      "elements (2074, 'BCT')\n",
      "elements ('yukesh', 2074, 'BCT')\n"
     ]
    }
   ],
   "source": [
    "# access tuple\n",
    "tuple_var = ('yukesh',2074,'BCT')\n",
    "\n",
    "print(\"first item {}\".format(tuple_var[0]))\n",
    "print(\"second item {}\".format(tuple_var[1]))\n",
    "print(\"third item {}\".format(tuple_var[2]))\n",
    "\n",
    "\n",
    "# negative indexing\n",
    "\n",
    "print(\"last element {}\".format(tuple_var[-1]))\n",
    "\n",
    "# slicing element\n",
    "print(\"elements {}\".format(tuple_var[0:2]))\n",
    "print(\"elements {}\".format(tuple_var[1:]))\n",
    "print(\"elements {}\".format(tuple_var[:]))\n"
   ]
  },
  {
   "cell_type": "code",
   "execution_count": 37,
   "metadata": {},
   "outputs": [
    {
     "name": "stdout",
     "output_type": "stream",
     "text": [
      "2\n",
      "3\n",
      "<class 'tuple'>\n"
     ]
    }
   ],
   "source": [
    "# tuple method \n",
    "my_tuple = ('apple', 'banana', 'apple', 'mango')\n",
    "\n",
    "\n",
    "# set_value = tuple(my_tuple)\n",
    "# type(set_value)\n",
    "\n",
    "print(my_tuple.count('apple'))  # prints 2\n",
    "print(my_tuple.index('mango'))  # prints 3\n",
    "print(type(my_tuple))"
   ]
  },
  {
   "cell_type": "code",
   "execution_count": 23,
   "metadata": {},
   "outputs": [
    {
     "name": "stdout",
     "output_type": "stream",
     "text": [
      "yukesh\n",
      "2074\n",
      "BCT\n"
     ]
    }
   ],
   "source": [
    "# iterating through a tuple in python \n",
    "tuple_var = ('yukesh',2074,'BCT')\n",
    "\n",
    "for detail in tuple_var:\n",
    "    print(detail)"
   ]
  },
  {
   "cell_type": "code",
   "execution_count": 28,
   "metadata": {},
   "outputs": [
    {
     "name": "stdout",
     "output_type": "stream",
     "text": [
      "False\n",
      "True\n"
     ]
    }
   ],
   "source": [
    "# check if item exist or not\n",
    "languages = ('Python', 'Swift', 'C++')\n",
    "\n",
    "print('C' in languages)    # False\n",
    "print('Python' in languages)    # True"
   ]
  },
  {
   "attachments": {},
   "cell_type": "markdown",
   "metadata": {},
   "source": [
    "# set\n"
   ]
  },
  {
   "cell_type": "code",
   "execution_count": 29,
   "metadata": {},
   "outputs": [
    {
     "name": "stdout",
     "output_type": "stream",
     "text": [
      "<class 'set'>\n"
     ]
    }
   ],
   "source": [
    "# create a set \n",
    "vowel_letter = {'a','e','i','o','u'}\n",
    "\n",
    "print(type(vowel_letter))"
   ]
  },
  {
   "cell_type": "code",
   "execution_count": 31,
   "metadata": {},
   "outputs": [
    {
     "name": "stdout",
     "output_type": "stream",
     "text": [
      "<class 'set'>\n",
      "<class 'dict'>\n"
     ]
    }
   ],
   "source": [
    "# create a empty set\n",
    "\n",
    "var_set = set()\n",
    "var_dic = {}\n",
    "print(type(var_set))\n",
    "print(type(var_dic))"
   ]
  },
  {
   "cell_type": "code",
   "execution_count": 34,
   "metadata": {},
   "outputs": [
    {
     "name": "stdout",
     "output_type": "stream",
     "text": [
      "{2, 3, 4}\n"
     ]
    }
   ],
   "source": [
    "# duplicate items in a set\n",
    "numbers = {2,3,2,2,3,4}\n",
    "print(numbers)"
   ]
  },
  {
   "cell_type": "code",
   "execution_count": 35,
   "metadata": {},
   "outputs": [
    {
     "name": "stdout",
     "output_type": "stream",
     "text": [
      "Initial Set: {34, 12, 21, 54}\n",
      "Updated Set: {32, 34, 12, 21, 54}\n"
     ]
    }
   ],
   "source": [
    "# set unorder and indexing has no meaning for it\n",
    "# Add items\n",
    "\n",
    "numbers = {21, 34, 54, 12}\n",
    "\n",
    "print('Initial Set:',numbers)\n",
    "\n",
    "# using add() method\n",
    "numbers.add(32)\n",
    "\n",
    "print('Updated Set:', numbers)"
   ]
  },
  {
   "cell_type": "code",
   "execution_count": 37,
   "metadata": {},
   "outputs": [
    {
     "name": "stdout",
     "output_type": "stream",
     "text": [
      "{'comp1', 'apple', 'comp2', 'google'}\n"
     ]
    }
   ],
   "source": [
    "# update python set\n",
    "companies = {'comp1', 'comp2'}\n",
    "tech_companies = ['apple', 'google', 'apple']\n",
    "\n",
    "companies.update(tech_companies)\n",
    "\n",
    "print(companies)\n",
    "\n",
    "# Output: {'google', 'apple', 'Lacoste', 'Ralph Lauren'}"
   ]
  },
  {
   "cell_type": "code",
   "execution_count": 38,
   "metadata": {},
   "outputs": [
    {
     "name": "stdout",
     "output_type": "stream",
     "text": [
      "Before remove:-  {'banana', 'apple', 'jackfruit'}\n",
      "after remove:-  {'banana', 'jackfruit'}\n"
     ]
    }
   ],
   "source": [
    "# remove item from the set\n",
    "fruits = {'apple','banana','jackfruit'}\n",
    "print('Before remove:- ',fruits)\n",
    "\n",
    "# remove apple\n",
    "fruits.discard('apple')\n",
    "print('after remove:- ',fruits)"
   ]
  },
  {
   "cell_type": "code",
   "execution_count": 39,
   "metadata": {},
   "outputs": [
    {
     "name": "stdout",
     "output_type": "stream",
     "text": [
      "Peach\n",
      "Apple\n",
      "Mango\n"
     ]
    }
   ],
   "source": [
    "# iterate over set\n",
    "fruits = {\"Apple\", \"Peach\", \"Mango\"}\n",
    "\n",
    "# for loop to access each fruits\n",
    "for fruit in fruits: \n",
    "    print(fruit)"
   ]
  },
  {
   "cell_type": "code",
   "execution_count": 41,
   "metadata": {},
   "outputs": [
    {
     "name": "stdout",
     "output_type": "stream",
     "text": [
      "Set: {8, 2, 4, 6}\n",
      "Total Elements: 4\n"
     ]
    }
   ],
   "source": [
    "# find the numbers\n",
    "even_numbers = {2,4,6,8}\n",
    "print('Set:',even_numbers)\n",
    "\n",
    "# find number of elements\n",
    "print('Total Elements:', len(even_numbers))"
   ]
  },
  {
   "cell_type": "code",
   "execution_count": 42,
   "metadata": {},
   "outputs": [
    {
     "name": "stdout",
     "output_type": "stream",
     "text": [
      "Union using |: {0, 1, 2, 3, 4, 5}\n",
      "Union using union(): {0, 1, 2, 3, 4, 5}\n"
     ]
    }
   ],
   "source": [
    "# python set operation\n",
    "# union \n",
    "# first set\n",
    "A = {1, 3, 5}\n",
    "\n",
    "# second set\n",
    "B = {0, 2, 4}\n",
    "\n",
    "# perform union operation using |\n",
    "print('Union using |:', A | B)\n",
    "\n",
    "# perform union operation using union()\n",
    "print('Union using union():', A.union(B)) "
   ]
  },
  {
   "cell_type": "code",
   "execution_count": 43,
   "metadata": {},
   "outputs": [
    {
     "name": "stdout",
     "output_type": "stream",
     "text": [
      "Intersection using &: {1, 3}\n",
      "Intersection using intersection(): {1, 3}\n"
     ]
    }
   ],
   "source": [
    "# intersection of set\n",
    "# first set\n",
    "A = {1, 3, 5}\n",
    "\n",
    "# second set\n",
    "B = {1, 2, 3}\n",
    "\n",
    "# perform intersection operation using &\n",
    "print('Intersection using &:', A & B)\n",
    "\n",
    "# perform intersection operation using intersection()\n",
    "print('Intersection using intersection():', A.intersection(B))"
   ]
  },
  {
   "cell_type": "code",
   "execution_count": 44,
   "metadata": {},
   "outputs": [
    {
     "name": "stdout",
     "output_type": "stream",
     "text": [
      "Difference using &: {3, 5}\n",
      "Difference using difference(): {3, 5}\n"
     ]
    }
   ],
   "source": [
    "# difference of set\n",
    "# first set\n",
    "A = {2, 3, 5}\n",
    "\n",
    "# second set\n",
    "B = {1, 2, 6}\n",
    "\n",
    "# perform difference operation using &\n",
    "print('Difference using &:', A - B)\n",
    "\n",
    "# perform difference operation using difference()\n",
    "print('Difference using difference():', A.difference(B))"
   ]
  },
  {
   "cell_type": "code",
   "execution_count": 45,
   "metadata": {},
   "outputs": [
    {
     "name": "stdout",
     "output_type": "stream",
     "text": [
      "using ^: {1, 3, 5, 6}\n",
      "using symmetric_difference(): {1, 3, 5, 6}\n"
     ]
    }
   ],
   "source": [
    "# set symmetrical difference\n",
    "\n",
    "# first set\n",
    "A = {2, 3, 5}\n",
    "\n",
    "# second set\n",
    "B = {1, 2, 6}\n",
    "\n",
    "# perform difference operation using &\n",
    "print('using ^:', A ^ B)\n",
    "\n",
    "# using symmetric_difference()\n",
    "print('using symmetric_difference():', A.symmetric_difference(B)) "
   ]
  },
  {
   "cell_type": "code",
   "execution_count": 41,
   "metadata": {},
   "outputs": [
    {
     "name": "stdout",
     "output_type": "stream",
     "text": [
      "Set A and Set B are equal\n"
     ]
    }
   ],
   "source": [
    "# check if two set are equal\n",
    "# first set\n",
    "A = {1, 3, 5}\n",
    "\n",
    "# second set\n",
    "B = {3, 5, 1}\n",
    "\n",
    "# perform difference operation using &\n",
    "if A == B:\n",
    "    print('Set A and Set B are equal')\n",
    "else:\n",
    "    print('Set A and Set B are not equal')"
   ]
  },
  {
   "attachments": {},
   "cell_type": "markdown",
   "metadata": {},
   "source": [
    "# Dictionary"
   ]
  },
  {
   "cell_type": "code",
   "execution_count": 55,
   "metadata": {},
   "outputs": [
    {
     "name": "stdout",
     "output_type": "stream",
     "text": [
      "{'country': 'Nepal', 'capital': 'Kathmandu', 'ranking': 2}\n"
     ]
    }
   ],
   "source": [
    "# create a dictionary\n",
    "\n",
    "detail_dic = {'country':'Nepal',\"capital\":\"Kathmandu\",\"ranking\":2}\n",
    "\n",
    "print(detail_dic)"
   ]
  },
  {
   "cell_type": "code",
   "execution_count": 56,
   "metadata": {},
   "outputs": [
    {
     "name": "stdout",
     "output_type": "stream",
     "text": [
      "{}\n"
     ]
    }
   ],
   "source": [
    "# create a empty dictionary\n",
    "empty_dict = {}\n",
    "print(empty_dict)"
   ]
  },
  {
   "cell_type": "code",
   "execution_count": null,
   "metadata": {},
   "outputs": [],
   "source": []
  },
  {
   "cell_type": "code",
   "execution_count": 57,
   "metadata": {},
   "outputs": [
    {
     "name": "stdout",
     "output_type": "stream",
     "text": [
      "update element  {'country': 'Nepal', 'capital': 'Kathmandu', 'ranking': 2, 'highest_moutain': 'Mount Everest'}\n"
     ]
    }
   ],
   "source": [
    "# add element to a python dictionary\n",
    "detail_dic[\"highest_moutain\"] = \"Mount Everest\"\n",
    "print(\"update element \", detail_dic)"
   ]
  },
  {
   "cell_type": "code",
   "execution_count": 58,
   "metadata": {},
   "outputs": [
    {
     "name": "stdout",
     "output_type": "stream",
     "text": [
      "update ranking vaue :  {'country': 'Nepal', 'capital': 'Kathmandu', 'ranking': 200, 'highest_moutain': 'Mount Everest'}\n"
     ]
    }
   ],
   "source": [
    "# change value \n",
    "detail_dic['ranking'] = 200\n",
    "print(\"update ranking vaue : \",detail_dic)"
   ]
  },
  {
   "cell_type": "code",
   "execution_count": 59,
   "metadata": {},
   "outputs": [
    {
     "name": "stdout",
     "output_type": "stream",
     "text": [
      "Nepal\n"
     ]
    }
   ],
   "source": [
    "# accessing element\n",
    "print(detail_dic['country'])"
   ]
  },
  {
   "cell_type": "code",
   "execution_count": 60,
   "metadata": {},
   "outputs": [
    {
     "name": "stdout",
     "output_type": "stream",
     "text": [
      "initial dictionary :  {'country': 'Nepal', 'capital': 'Kathmandu', 'ranking': 200, 'highest_moutain': 'Mount Everest'}\n",
      "after dictionary :  {'country': 'Nepal', 'capital': 'Kathmandu', 'highest_moutain': 'Mount Everest'}\n"
     ]
    }
   ],
   "source": [
    "# remove element \n",
    "print(\"initial dictionary : \",detail_dic)\n",
    "\n",
    "del detail_dic['ranking']\n",
    "\n",
    "print(\"after dictionary : \",detail_dic)"
   ]
  },
  {
   "cell_type": "code",
   "execution_count": 62,
   "metadata": {},
   "outputs": [
    {
     "name": "stdout",
     "output_type": "stream",
     "text": [
      "True\n",
      "False\n"
     ]
    }
   ],
   "source": [
    "# membership testing\n",
    "print('country' in detail_dic)\n",
    "print('ranking' in detail_dic)"
   ]
  },
  {
   "cell_type": "code",
   "execution_count": 66,
   "metadata": {},
   "outputs": [
    {
     "name": "stdout",
     "output_type": "stream",
     "text": [
      "country  :  Nepal\n",
      "capital  :  Kathmandu\n",
      "highest_moutain  :  Mount Everest\n"
     ]
    }
   ],
   "source": [
    "# iterating through a dictionary\n",
    "for key,value in detail_dic.items():\n",
    "    print(key,\" : \",value)"
   ]
  },
  {
   "attachments": {},
   "cell_type": "markdown",
   "metadata": {},
   "source": [
    "# function "
   ]
  },
  {
   "cell_type": "code",
   "execution_count": 40,
   "metadata": {},
   "outputs": [],
   "source": [
    "# create a function\n",
    "def dislay():\n",
    "    pass\n",
    "\n",
    "display()"
   ]
  },
  {
   "cell_type": "code",
   "execution_count": 47,
   "metadata": {},
   "outputs": [
    {
     "name": "stdout",
     "output_type": "stream",
     "text": [
      "None\n"
     ]
    }
   ],
   "source": [
    "# create function and define function\n",
    "\n",
    "def add(a=None):\n",
    "    print(a)\n",
    "\n",
    "add()\n"
   ]
  },
  {
   "cell_type": "code",
   "execution_count": 70,
   "metadata": {},
   "outputs": [
    {
     "name": "stdout",
     "output_type": "stream",
     "text": [
      "the sum is :  7\n"
     ]
    }
   ],
   "source": [
    "# return type in python \n",
    "def add(a,b):\n",
    "    return a+b\n",
    "\n",
    "sum = add(5,2)\n",
    "print(\"the sum is : \", sum)"
   ]
  },
  {
   "cell_type": "code",
   "execution_count": 73,
   "metadata": {},
   "outputs": [
    {
     "name": "stdout",
     "output_type": "stream",
     "text": [
      "sum is:  8\n"
     ]
    }
   ],
   "source": [
    "# default value\n",
    "\n",
    "def add(a=5,b=2):\n",
    "    print(\"sum is: \",a+b)\n",
    "\n",
    "add(6)"
   ]
  },
  {
   "cell_type": "code",
   "execution_count": 50,
   "metadata": {},
   "outputs": [
    {
     "name": "stdout",
     "output_type": "stream",
     "text": [
      "sum is:  7\n"
     ]
    }
   ],
   "source": [
    "# python keyargument\n",
    "def add(a,b):\n",
    "    print(\"sum is: \",a+b)\n",
    "\n",
    "add(a = 5,b=2)"
   ]
  },
  {
   "cell_type": "code",
   "execution_count": 53,
   "metadata": {},
   "outputs": [
    {
     "name": "stdout",
     "output_type": "stream",
     "text": [
      "(5, 2)\n",
      "<class 'tuple'>\n",
      "sum is : 7\n",
      "(5, 2, 3)\n",
      "<class 'tuple'>\n",
      "sum is : 10\n"
     ]
    }
   ],
   "source": [
    "# python function with arbitary arguments:- non keyword\n",
    "def add(*num):\n",
    "    print(num)\n",
    "    print(type(num))\n",
    "    sum = 0\n",
    "    for i in num:\n",
    "        sum = sum+i\n",
    "    print(\"sum is :\", sum)\n",
    "\n",
    "add(5,2)\n",
    "add(5,2,3)"
   ]
  },
  {
   "cell_type": "code",
   "execution_count": 82,
   "metadata": {},
   "outputs": [
    {
     "name": "stdout",
     "output_type": "stream",
     "text": [
      "country  :  Nepal\n",
      "capital  :  kathmandu\n"
     ]
    }
   ],
   "source": [
    "# python function with arbitary arguments:- keyword called kwarg\n",
    "def data(**num):\n",
    "    for key,value in num.items():\n",
    "        print(key,\" : \",value)\n",
    "        \n",
    "\n",
    "data(country=\"Nepal\",capital=\"kathmandu\")"
   ]
  },
  {
   "cell_type": "code",
   "execution_count": null,
   "metadata": {},
   "outputs": [],
   "source": []
  },
  {
   "attachments": {},
   "cell_type": "markdown",
   "metadata": {},
   "source": [
    "# Class and Object"
   ]
  },
  {
   "cell_type": "code",
   "execution_count": 2,
   "metadata": {},
   "outputs": [],
   "source": [
    "# Define class\n",
    "class display:\n",
    "    # class definition\n",
    "    greeting = \"Hello\"\n",
    "\n",
    "object1 = display()\n",
    "object1.greeting_new= \"Good morning\""
   ]
  },
  {
   "attachments": {},
   "cell_type": "markdown",
   "metadata": {},
   "source": [
    "# inheritance\n"
   ]
  },
  {
   "attachments": {},
   "cell_type": "markdown",
   "metadata": {},
   "source": [
    "### superclass--> parent class\n",
    "### subclass--> child/derived class\n"
   ]
  },
  {
   "cell_type": "code",
   "execution_count": 4,
   "metadata": {},
   "outputs": [],
   "source": [
    "# define a superclass\n",
    "class super_class:\n",
    "    # attributes and method definition\n",
    "    pass\n",
    "\n",
    "# inheritance\n",
    "class sub_class(super_class):\n",
    "    # attributes and method of super_class\n",
    "    # attributes and method of sub_class\n",
    "    pass"
   ]
  },
  {
   "cell_type": "code",
   "execution_count": 1,
   "metadata": {},
   "outputs": [
    {
     "name": "stdout",
     "output_type": "stream",
     "text": [
      "I can eat!\n",
      "I can sleep!\n",
      "I can bark! Woof woof!!\n"
     ]
    }
   ],
   "source": [
    "# base class\n",
    "class Animal:\n",
    "    \n",
    "    def eat(self):\n",
    "        print( \"I can eat!\")\n",
    "    \n",
    "    def sleep(self):\n",
    "        print(\"I can sleep!\")\n",
    "\n",
    "# derived class\n",
    "class Dog(Animal):\n",
    "    \n",
    "    def bark(self):\n",
    "        print(\"I can bark! Woof woof!!\")\n",
    "\n",
    "# Create object of the Dog class\n",
    "dog1 = Dog()\n",
    "\n",
    "# Calling members of the base class\n",
    "dog1.eat()\n",
    "dog1.sleep()\n",
    "\n",
    "# Calling member of the derived class\n",
    "dog1.bark()"
   ]
  },
  {
   "cell_type": "code",
   "execution_count": 10,
   "metadata": {},
   "outputs": [],
   "source": [
    "# wap to calculate the average score of the subjects of student\n",
    "\n",
    "class student:\n",
    "    def average_marks(self,sub_marks):\n",
    "        total = sum(sub_marks)\n",
    "        print(f\"average marks {total/len(sub_marks)}\") \n",
    "\n",
    "class subject(student):\n",
    "    def __init__(self):\n",
    "        self.math = int(input(\"Marks for math\"))\n",
    "        self.english = int(input(\"Marks for english\"))\n",
    "        self.computer = int(input(\"Marks for computer\"))\n",
    "        self.list_data = [self.math,self.english,self.computer]\n",
    "    \n",
    "    def get_data(self):\n",
    "        return self.list_data\n",
    "    \n"
   ]
  },
  {
   "cell_type": "code",
   "execution_count": null,
   "metadata": {},
   "outputs": [],
   "source": [
    "#wap to calculate area for triangular using sqr(s*(s*a)(s*b)(s*c))"
   ]
  },
  {
   "cell_type": "code",
   "execution_count": 1,
   "metadata": {},
   "outputs": [
    {
     "name": "stdout",
     "output_type": "stream",
     "text": [
      "I like to eat bones\n"
     ]
    }
   ],
   "source": [
    "#overrriding\n",
    "\n",
    "class Animal:\n",
    "\n",
    "    # attributes and method of the parent class\n",
    "    name = \"\"\n",
    "    \n",
    "    def eat(self):\n",
    "        print(\"I can eat\")\n",
    "\n",
    "# inherit from Animal\n",
    "class Dog(Animal):\n",
    "\n",
    "    # override eat() method\n",
    "    def eat(self):\n",
    "        print(\"I like to eat bones\")\n",
    "\n",
    "# create an object of the subclass\n",
    "husky = Dog()\n",
    "\n",
    "# call the eat() method on the labrador object\n",
    "husky.eat()"
   ]
  },
  {
   "cell_type": "code",
   "execution_count": 2,
   "metadata": {},
   "outputs": [
    {
     "name": "stdout",
     "output_type": "stream",
     "text": [
      "I can eat\n",
      "I like to eat bones\n"
     ]
    }
   ],
   "source": [
    "class Animal:\n",
    "\n",
    "    name = \"\"\n",
    "    \n",
    "    def eat(self):\n",
    "        print(\"I can eat\")\n",
    "\n",
    "# inherit from Animal\n",
    "class Dog(Animal):\n",
    "    \n",
    "    # override eat() method\n",
    "    def eat(self):\n",
    "        \n",
    "        # call the eat() method of the superclass using super()\n",
    "        super().eat()\n",
    "        \n",
    "        print(\"I like to eat bones\")\n",
    "\n",
    "# create an object of the subclass\n",
    "labrador = Dog()\n",
    "\n",
    "labrador.eat()"
   ]
  },
  {
   "cell_type": "code",
   "execution_count": null,
   "metadata": {},
   "outputs": [],
   "source": [
    "# multiple inheritance\n",
    "class Mammal:\n",
    "    def mammal_info(self):\n",
    "        print(\"Mammals can give direct birth.\")\n",
    "\n",
    "class WingedAnimal:\n",
    "    def winged_animal_info(self):\n",
    "        print(\"Winged animals can flap.\")\n",
    "\n",
    "class Bat(Mammal, WingedAnimal):\n",
    "    pass\n",
    "\n",
    "# create an object of Bat class\n",
    "b1 = Bat()\n",
    "\n",
    "b1.mammal_info()\n",
    "b1.winged_animal_info()"
   ]
  },
  {
   "cell_type": "code",
   "execution_count": null,
   "metadata": {},
   "outputs": [],
   "source": [
    "# multilevel inheritance\n",
    "class SuperClass:\n",
    "\n",
    "    def super_method(self):\n",
    "        print(\"Super Class method called\")\n",
    "\n",
    "# define class that derive from SuperClass\n",
    "class DerivedClass1(SuperClass):\n",
    "    def derived1_method(self):\n",
    "        print(\"Derived class 1 method called\")\n",
    "\n",
    "# define class that derive from DerivedClass1\n",
    "class DerivedClass2(DerivedClass1):\n",
    "\n",
    "    def derived2_method(self):\n",
    "        print(\"Derived class 2 method called\")\n",
    "\n",
    "# create an object of DerivedClass2\n",
    "d2 = DerivedClass2()\n",
    "\n",
    "d2.super_method()  # Output: \"Super Class method called\"\n",
    "\n",
    "d2.derived1_method()  # Output: \"Derived class 1 method called\"\n",
    "\n",
    "d2.derived2_method()  # Output: \"Derived class 2 method called\""
   ]
  },
  {
   "cell_type": "code",
   "execution_count": 3,
   "metadata": {},
   "outputs": [
    {
     "name": "stdout",
     "output_type": "stream",
     "text": [
      "Super Class 1 method called\n"
     ]
    }
   ],
   "source": [
    "# Method Resolution Order (MRO) in Python\n",
    "class SuperClass1:\n",
    "    def info(self):\n",
    "        print(\"Super Class 1 method called\")\n",
    "\n",
    "class SuperClass2:\n",
    "    def info(self):\n",
    "        print(\"Super Class 2 method called\")\n",
    "\n",
    "class Derived(SuperClass1, SuperClass2):\n",
    "    pass\n",
    "\n",
    "d1 = Derived()\n",
    "d1.info()  \n",
    "\n",
    "# Output: value of the first class"
   ]
  },
  {
   "attachments": {},
   "cell_type": "markdown",
   "metadata": {},
   "source": [
    "# Encapsulation"
   ]
  },
  {
   "attachments": {},
   "cell_type": "markdown",
   "metadata": {},
   "source": [
    "## bundling of attributes and methods inside a single class\n",
    "\n",
    "### This achieve data hiding we use the prefix i.e. _ or __"
   ]
  },
  {
   "cell_type": "code",
   "execution_count": 4,
   "metadata": {},
   "outputs": [
    {
     "name": "stdout",
     "output_type": "stream",
     "text": [
      "Value: 900\n",
      "Value: 900\n",
      "Value: 1000\n"
     ]
    }
   ],
   "source": [
    "class Computer:\n",
    "\n",
    "    def __init__(self):\n",
    "        self.__hidden_value = 900\n",
    "\n",
    "    def data(self):\n",
    "        print(\"Value: {}\".format(self.__hidden_value))\n",
    "\n",
    "    def set_hidden_value(self, price):\n",
    "        self.__hidden_value = price\n",
    "\n",
    "c = Computer()\n",
    "c.data()\n",
    "\n",
    "# change the hidden data\n",
    "c.__hidden_value = 1000\n",
    "c.data()\n",
    "\n",
    "# using setter function\n",
    "c.set_hidden_value(1000)\n",
    "c.data()"
   ]
  },
  {
   "attachments": {},
   "cell_type": "markdown",
   "metadata": {},
   "source": [
    "## Polymorphism"
   ]
  },
  {
   "attachments": {},
   "cell_type": "markdown",
   "metadata": {},
   "source": [
    "#### having more than one form\n",
    "#### can perform different operations in different scenarios"
   ]
  },
  {
   "cell_type": "code",
   "execution_count": 3,
   "metadata": {},
   "outputs": [
    {
     "name": "stdout",
     "output_type": "stream",
     "text": [
      "Rendering Square...\n",
      "Rendering Circle...\n"
     ]
    }
   ],
   "source": [
    "class Polygon:\n",
    "    # method to render a shape\n",
    "    def render(self):\n",
    "        print(\"Rendering Polygon...\")\n",
    "\n",
    "class Square(Polygon):\n",
    "    # renders Square\n",
    "    def render(self):\n",
    "        print(\"Rendering Square...\")\n",
    "\n",
    "class Circle(Polygon):\n",
    "    # renders circle\n",
    "    def render(self):\n",
    "        print(\"Rendering Circle...\")\n",
    "    \n",
    "# create an object of Square\n",
    "# give the value of own classs\n",
    "s1 = Square()\n",
    "s1.render()\n",
    "\n",
    "# create an object of Circle\n",
    "# give the value of own classs\n",
    "c1 = Circle()\n",
    "c1.render()"
   ]
  },
  {
   "cell_type": "code",
   "execution_count": 5,
   "metadata": {},
   "outputs": [
    {
     "name": "stdout",
     "output_type": "stream",
     "text": [
      "__main__ <class 'str'>\n"
     ]
    }
   ],
   "source": [
    "print(__name__, type(__name__))"
   ]
  },
  {
   "cell_type": "code",
   "execution_count": 9,
   "metadata": {},
   "outputs": [
    {
     "name": "stdout",
     "output_type": "stream",
     "text": [
      "['__add__', '__class__', '__contains__', '__delattr__', '__dir__', '__doc__', '__eq__', '__format__', '__ge__', '__getattribute__', '__getitem__', '__getnewargs__', '__getstate__', '__gt__', '__hash__', '__init__', '__init_subclass__', '__iter__', '__le__', '__len__', '__lt__', '__mod__', '__mul__', '__ne__', '__new__', '__reduce__', '__reduce_ex__', '__repr__', '__rmod__', '__rmul__', '__setattr__', '__sizeof__', '__str__', '__subclasshook__', 'capitalize', 'casefold', 'center', 'count', 'encode', 'endswith', 'expandtabs', 'find', 'format', 'format_map', 'index', 'isalnum', 'isalpha', 'isascii', 'isdecimal', 'isdigit', 'isidentifier', 'islower', 'isnumeric', 'isprintable', 'isspace', 'istitle', 'isupper', 'join', 'ljust', 'lower', 'lstrip', 'maketrans', 'partition', 'removeprefix', 'removesuffix', 'replace', 'rfind', 'rindex', 'rjust', 'rpartition', 'rsplit', 'rstrip', 'split', 'splitlines', 'startswith', 'strip', 'swapcase', 'title', 'translate', 'upper', 'zfill']\n"
     ]
    }
   ],
   "source": [
    "# dunder method or magic method\n",
    "# number of dunder method\n",
    "print(dir(int))"
   ]
  },
  {
   "cell_type": "code",
   "execution_count": 27,
   "metadata": {},
   "outputs": [
    {
     "name": "stdout",
     "output_type": "stream",
     "text": [
      "<class 'str'>\n"
     ]
    }
   ],
   "source": [
    "num='12'\n",
    "val = str.__str__(num)\n",
    "print(type(val))"
   ]
  },
  {
   "cell_type": "code",
   "execution_count": 23,
   "metadata": {},
   "outputs": [],
   "source": [
    "# __add__\n",
    "class Addition:\n",
    "    def __init__(self,value=None):\n",
    "        self.data = value\n",
    "\n",
    "    def __add__(self,x):\n",
    "        temp=Addition()\n",
    "        temp.value = self.data+x.data\n",
    "        return temp\n",
    "    \n",
    "    def __str__(self):\n",
    "        return f'The total sum {self.data}'\n"
   ]
  },
  {
   "cell_type": "code",
   "execution_count": 25,
   "metadata": {},
   "outputs": [
    {
     "name": "stdout",
     "output_type": "stream",
     "text": [
      "The total sum None\n"
     ]
    }
   ],
   "source": [
    "a = Addition(2)\n",
    "b = Addition(1)\n",
    "d = Addition()\n",
    "d = a+b\n",
    "print(d)"
   ]
  },
  {
   "cell_type": "code",
   "execution_count": null,
   "metadata": {},
   "outputs": [],
   "source": []
  }
 ],
 "metadata": {
  "kernelspec": {
   "display_name": "env",
   "language": "python",
   "name": "python3"
  },
  "language_info": {
   "codemirror_mode": {
    "name": "ipython",
    "version": 3
   },
   "file_extension": ".py",
   "mimetype": "text/x-python",
   "name": "python",
   "nbconvert_exporter": "python",
   "pygments_lexer": "ipython3",
   "version": "3.11.4"
  },
  "orig_nbformat": 4
 },
 "nbformat": 4,
 "nbformat_minor": 2
}
