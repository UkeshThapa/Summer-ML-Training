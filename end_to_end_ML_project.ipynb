{
  "nbformat": 4,
  "nbformat_minor": 0,
  "metadata": {
    "colab": {
      "provenance": [],
      "toc_visible": true,
      "authorship_tag": "ABX9TyPfdKLSkobr1bs6wbMAXJAy",
      "include_colab_link": true
    },
    "kernelspec": {
      "name": "python3",
      "display_name": "Python 3"
    },
    "language_info": {
      "name": "python"
    }
  },
  "cells": [
    {
      "cell_type": "markdown",
      "metadata": {
        "id": "view-in-github",
        "colab_type": "text"
      },
      "source": [
        "<a href=\"https://colab.research.google.com/github/UkeshThapa/Summer-ML-Training/blob/master/end_to_end_ML_project.ipynb\" target=\"_parent\"><img src=\"https://colab.research.google.com/assets/colab-badge.svg\" alt=\"Open In Colab\"/></a>"
      ]
    },
    {
      "cell_type": "markdown",
      "source": [
        "# End to End Machine Learning Project"
      ],
      "metadata": {
        "id": "8XTpwk3gX7ih"
      }
    },
    {
      "cell_type": "markdown",
      "source": [
        "# Frame the Problem"
      ],
      "metadata": {
        "id": "lBjSrJTda9p_"
      }
    },
    {
      "cell_type": "code",
      "source": [],
      "metadata": {
        "id": "y-9orksLYEbh"
      },
      "execution_count": null,
      "outputs": []
    }
  ]
}