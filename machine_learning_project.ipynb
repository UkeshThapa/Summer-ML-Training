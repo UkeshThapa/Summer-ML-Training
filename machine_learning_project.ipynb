{
  "nbformat": 4,
  "nbformat_minor": 0,
  "metadata": {
    "colab": {
      "provenance": [],
      "toc_visible": true,
      "authorship_tag": "ABX9TyMz84Ogvgb4RvoMSuBwjL0o",
      "include_colab_link": true
    },
    "kernelspec": {
      "name": "python3",
      "display_name": "Python 3"
    },
    "language_info": {
      "name": "python"
    }
  },
  "cells": [
    {
      "cell_type": "markdown",
      "metadata": {
        "id": "view-in-github",
        "colab_type": "text"
      },
      "source": [
        "<a href=\"https://colab.research.google.com/github/UkeshThapa/Summer-ML-Training/blob/master/machine_learning_project.ipynb\" target=\"_parent\"><img src=\"https://colab.research.google.com/assets/colab-badge.svg\" alt=\"Open In Colab\"/></a>"
      ]
    },
    {
      "cell_type": "markdown",
      "source": [
        "# *Expolatory Data Analysis (EDA)*"
      ],
      "metadata": {
        "id": "0wqA7S4vgKO2"
      }
    },
    {
      "cell_type": "markdown",
      "source": [
        "# Data Analysis"
      ],
      "metadata": {
        "id": "T79aWkMWgzT5"
      }
    },
    {
      "cell_type": "code",
      "source": [],
      "metadata": {
        "id": "X28s7uukgYP_"
      },
      "execution_count": null,
      "outputs": []
    }
  ]
}