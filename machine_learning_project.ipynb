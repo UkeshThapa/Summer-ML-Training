{
  "cells": [
    {
      "cell_type": "markdown",
      "metadata": {
        "colab_type": "text",
        "id": "view-in-github"
      },
      "source": [
        "<a href=\"https://colab.research.google.com/github/UkeshThapa/Summer-ML-Training/blob/master/machine_learning_project.ipynb\" target=\"_parent\"><img src=\"https://colab.research.google.com/assets/colab-badge.svg\" alt=\"Open In Colab\"/></a>"
      ]
    },
    {
      "cell_type": "markdown",
      "metadata": {
        "id": "0wqA7S4vgKO2"
      },
      "source": [
        "# *Expolatory Data Analysis (EDA)*"
      ]
    },
    {
      "cell_type": "markdown",
      "metadata": {
        "id": "T79aWkMWgzT5"
      },
      "source": [
        "# Data Analysis"
      ]
    },
    {
      "cell_type": "code",
      "execution_count": null,
      "metadata": {
        "id": "X28s7uukgYP_"
      },
      "outputs": [],
      "source": [
        "he"
      ]
    }
  ],
  "metadata": {
    "colab": {
      "authorship_tag": "ABX9TyMz84Ogvgb4RvoMSuBwjL0o",
      "include_colab_link": true,
      "provenance": [],
      "toc_visible": true
    },
    "kernelspec": {
      "display_name": "Python 3",
      "name": "python3"
    },
    "language_info": {
      "name": "python"
    }
  },
  "nbformat": 4,
  "nbformat_minor": 0
}
